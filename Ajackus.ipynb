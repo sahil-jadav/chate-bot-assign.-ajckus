{
 "cells": [
  {
   "cell_type": "code",
   "execution_count": 1,
   "id": "533ccdb2",
   "metadata": {},
   "outputs": [],
   "source": [
    "import sqlite3"
   ]
  },
  {
   "cell_type": "code",
   "execution_count": 2,
   "id": "dfd53bcf",
   "metadata": {},
   "outputs": [],
   "source": [
    "conn = sqlite3.connect(\"company.db\")\n",
    "cursor = conn.cursor()\n",
    "\n",
    "# Create Employees table\n",
    "cursor.execute('''\n",
    "    CREATE TABLE IF NOT EXISTS Employees (\n",
    "        ID INTEGER PRIMARY KEY AUTOINCREMENT,\n",
    "        Name TEXT NOT NULL,\n",
    "        Department TEXT NOT NULL,\n",
    "        Salary INTEGER NOT NULL,\n",
    "        Hire_Date TEXT NOT NULL\n",
    "    )\n",
    "''')\n",
    "\n",
    "# Create Departments table\n",
    "cursor.execute('''\n",
    "    CREATE TABLE IF NOT EXISTS Departments (\n",
    "        ID INTEGER PRIMARY KEY AUTOINCREMENT,\n",
    "        Name TEXT NOT NULL UNIQUE,\n",
    "        Manager TEXT NOT NULL\n",
    "    )\n",
    "''')\n",
    "\n",
    "# Insert sample data into Employees\n",
    "cursor.executemany('''\n",
    "    INSERT INTO Employees (Name, Department, Salary, Hire_Date) VALUES (?, ?, ?, ?)\n",
    "''', [\n",
    "    (\"Alice\", \"Sales\", 50000, \"2021-01-15\"),\n",
    "    (\"Bob\", \"Engineering\", 70000, \"2020-06-10\"),\n",
    "    (\"Charlie\", \"Marketing\", 60000, \"2022-03-20\")\n",
    "])\n",
    "\n",
    "# Insert sample data into Departments\n",
    "cursor.executemany('''\n",
    "    INSERT INTO Departments (Name, Manager) VALUES (?, ?)\n",
    "''', [\n",
    "    (\"Sales\", \"Alice\"),\n",
    "    (\"Engineering\", \"Bob\"),\n",
    "    (\"Marketing\", \"Charlie\")\n",
    "])\n",
    "\n",
    "# Commit and close connection\n",
    "conn.commit()\n",
    "conn.close()"
   ]
  },
  {
   "cell_type": "code",
   "execution_count": 5,
   "id": "eaabe2e2",
   "metadata": {},
   "outputs": [
    {
     "name": "stdout",
     "output_type": "stream",
     "text": [
      "Requirement already satisfied: flask in c:\\users\\lenovo\\anaconda3\\lib\\site-packages (2.2.2)\n",
      "Requirement already satisfied: nltk in c:\\users\\lenovo\\anaconda3\\lib\\site-packages (3.8.1)\n",
      "Requirement already satisfied: Werkzeug>=2.2.2 in c:\\users\\lenovo\\anaconda3\\lib\\site-packages (from flask) (2.2.3)\n",
      "Requirement already satisfied: Jinja2>=3.0 in c:\\users\\lenovo\\anaconda3\\lib\\site-packages (from flask) (3.1.2)\n",
      "Requirement already satisfied: itsdangerous>=2.0 in c:\\users\\lenovo\\anaconda3\\lib\\site-packages (from flask) (2.0.1)\n",
      "Requirement already satisfied: click>=8.0 in c:\\users\\lenovo\\anaconda3\\lib\\site-packages (from flask) (8.0.4)\n",
      "Requirement already satisfied: joblib in c:\\users\\lenovo\\anaconda3\\lib\\site-packages (from nltk) (1.2.0)\n",
      "Requirement already satisfied: regex>=2021.8.3 in c:\\users\\lenovo\\anaconda3\\lib\\site-packages (from nltk) (2022.7.9)\n",
      "Requirement already satisfied: tqdm in c:\\users\\lenovo\\anaconda3\\lib\\site-packages (from nltk) (4.65.0)\n",
      "Requirement already satisfied: colorama in c:\\users\\lenovo\\anaconda3\\lib\\site-packages (from click>=8.0->flask) (0.4.6)\n",
      "Requirement already satisfied: MarkupSafe>=2.0 in c:\\users\\lenovo\\anaconda3\\lib\\site-packages (from Jinja2>=3.0->flask) (2.1.1)\n",
      "Note: you may need to restart the kernel to use updated packages.\n"
     ]
    }
   ],
   "source": [
    "pip install flask nltk"
   ]
  },
  {
   "cell_type": "code",
   "execution_count": 6,
   "id": "065beece",
   "metadata": {},
   "outputs": [
    {
     "name": "stderr",
     "output_type": "stream",
     "text": [
      "[nltk_data] Downloading package punkt to\n",
      "[nltk_data]     C:\\Users\\Lenovo\\AppData\\Roaming\\nltk_data...\n",
      "[nltk_data]   Unzipping tokenizers\\punkt.zip.\n"
     ]
    },
    {
     "name": "stdout",
     "output_type": "stream",
     "text": [
      " * Serving Flask app '__main__'\n",
      " * Debug mode: on\n"
     ]
    },
    {
     "name": "stderr",
     "output_type": "stream",
     "text": [
      "WARNING: This is a development server. Do not use it in a production deployment. Use a production WSGI server instead.\n",
      " * Running on http://127.0.0.1:5000\n",
      "Press CTRL+C to quit\n",
      " * Restarting with watchdog (windowsapi)\n"
     ]
    },
    {
     "ename": "SystemExit",
     "evalue": "1",
     "output_type": "error",
     "traceback": [
      "An exception has occurred, use %tb to see the full traceback.\n",
      "\u001b[1;31mSystemExit\u001b[0m\u001b[1;31m:\u001b[0m 1\n"
     ]
    },
    {
     "name": "stderr",
     "output_type": "stream",
     "text": [
      "C:\\Users\\Lenovo\\anaconda3\\Lib\\site-packages\\IPython\\core\\interactiveshell.py:3534: UserWarning: To exit: use 'exit', 'quit', or Ctrl-D.\n",
      "  warn(\"To exit: use 'exit', 'quit', or Ctrl-D.\", stacklevel=1)\n"
     ]
    }
   ],
   "source": [
    "from flask import Flask, request, jsonify\n",
    "import sqlite3\n",
    "import re\n",
    "import nltk\n",
    "\n",
    "nltk.download('punkt')\n",
    "\n",
    "app = Flask(__name__)\n",
    "\n",
    "# Function to connect to the SQLite database\n",
    "def connect_db():\n",
    "    return sqlite3.connect(\"company.db\")\n",
    "\n",
    "# Function to process user queries\n",
    "def process_query(user_input):\n",
    "    user_input = user_input.lower()\n",
    "\n",
    "    # Match queries using regular expressions\n",
    "    if re.search(r\"employees in (\\w+)\", user_input):\n",
    "        dept = re.search(r\"employees in (\\w+)\", user_input).group(1)\n",
    "        return f\"SELECT Name, Salary, Hire_Date FROM Employees WHERE Department='{dept}';\"\n",
    "    \n",
    "    elif re.search(r\"manager of (\\w+)\", user_input):\n",
    "        dept = re.search(r\"manager of (\\w+)\", user_input).group(1)\n",
    "        return f\"SELECT Manager FROM Departments WHERE Name='{dept}';\"\n",
    "\n",
    "    elif re.search(r\"hired after (\\d{4}-\\d{2}-\\d{2})\", user_input):\n",
    "        date = re.search(r\"(\\d{4}-\\d{2}-\\d{2})\", user_input).group(1)\n",
    "        return f\"SELECT Name, Hire_Date FROM Employees WHERE Hire_Date > '{date}';\"\n",
    "\n",
    "    elif re.search(r\"salary expense for (\\w+)\", user_input):\n",
    "        dept = re.search(r\"salary expense for (\\w+)\", user_input).group(1)\n",
    "        return f\"SELECT SUM(Salary) FROM Employees WHERE Department='{dept}';\"\n",
    "    \n",
    "    else:\n",
    "        return None  # If no valid query is found\n",
    "\n",
    "# API Endpoint\n",
    "@app.route(\"/chat\", methods=[\"POST\"])\n",
    "def chat():\n",
    "    user_input = request.json.get(\"query\")\n",
    "    \n",
    "    if not user_input:\n",
    "        return jsonify({\"error\": \"No query provided\"}), 400\n",
    "\n",
    "    sql_query = process_query(user_input)\n",
    "\n",
    "    if sql_query:\n",
    "        conn = connect_db()\n",
    "        cursor = conn.cursor()\n",
    "\n",
    "        try:\n",
    "            cursor.execute(sql_query)\n",
    "            result = cursor.fetchall()\n",
    "            conn.close()\n",
    "            \n",
    "            if not result:\n",
    "                return jsonify({\"response\": \"No results found.\"})\n",
    "            \n",
    "            return jsonify({\"response\": result})\n",
    "        \n",
    "        except Exception as e:\n",
    "            return jsonify({\"error\": str(e)}), 500\n",
    "\n",
    "    return jsonify({\"error\": \"Sorry, I didn't understand that query.\"}), 400\n",
    "\n",
    "if __name__ == \"__main__\":\n",
    "    app.run(debug=True)\n"
   ]
  },
  {
   "cell_type": "code",
   "execution_count": null,
   "id": "589201e5",
   "metadata": {},
   "outputs": [],
   "source": []
  }
 ],
 "metadata": {
  "kernelspec": {
   "display_name": "Python 3 (ipykernel)",
   "language": "python",
   "name": "python3"
  },
  "language_info": {
   "codemirror_mode": {
    "name": "ipython",
    "version": 3
   },
   "file_extension": ".py",
   "mimetype": "text/x-python",
   "name": "python",
   "nbconvert_exporter": "python",
   "pygments_lexer": "ipython3",
   "version": "3.11.5"
  }
 },
 "nbformat": 4,
 "nbformat_minor": 5
}
